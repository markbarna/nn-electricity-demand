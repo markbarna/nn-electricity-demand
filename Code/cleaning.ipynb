{
 "cells": [
  {
   "cell_type": "code",
   "execution_count": 2,
   "metadata": {},
   "outputs": [],
   "source": [
    "import numpy as np\n",
    "import pandas as pd"
   ]
  },
  {
   "cell_type": "code",
   "execution_count": 3,
   "metadata": {},
   "outputs": [],
   "source": [
    "# set maximum columns to display\n",
    "pd.set_option(\"display.max_columns\",50)"
   ]
  },
  {
   "cell_type": "code",
   "execution_count": 3,
   "metadata": {
    "collapsed": true
   },
   "outputs": [],
   "source": [
    "# load weather data\n",
    "weather = pd.read_csv('../Data/Raw/weather.csv', low_memory=False)"
   ]
  },
  {
   "cell_type": "code",
   "execution_count": 4,
   "metadata": {
    "collapsed": true
   },
   "outputs": [],
   "source": [
    "# load electricity load data\n",
    "load = pd.read_excel('../Data/Raw/native_Load_2017.xlsx')"
   ]
  },
  {
   "cell_type": "code",
   "execution_count": 5,
   "metadata": {
    "collapsed": true
   },
   "outputs": [],
   "source": [
    "# WEATHER DATA CLEANUP"
   ]
  },
  {
   "cell_type": "code",
   "execution_count": 6,
   "metadata": {
    "collapsed": true
   },
   "outputs": [],
   "source": [
    "# remove daily and monthly stats from hourly temperature readings\n",
    "weather = weather.iloc[:,:26]"
   ]
  },
  {
   "cell_type": "code",
   "execution_count": 7,
   "metadata": {
    "collapsed": true
   },
   "outputs": [],
   "source": [
    "# subset weather to necessary hourly columns\n",
    "weather = weather.iloc[:,[1,5,7,9,11,13,15,16,17,20,24]]"
   ]
  },
  {
   "cell_type": "code",
   "execution_count": 8,
   "metadata": {
    "collapsed": true
   },
   "outputs": [],
   "source": [
    "# in hourly precipication column, remove 's' from some readings\n",
    "# replace 'T' (trace amount) with 0.001 since minimum reported value is 0.01\n",
    "# convert column to numeric"
   ]
  },
  {
   "cell_type": "code",
   "execution_count": 9,
   "metadata": {
    "collapsed": true
   },
   "outputs": [],
   "source": [
    "weather.HOURLYPrecip = weather.HOURLYPrecip.str.replace('s', '')"
   ]
  },
  {
   "cell_type": "code",
   "execution_count": 10,
   "metadata": {
    "collapsed": true
   },
   "outputs": [],
   "source": [
    "weather.HOURLYPrecip = weather.HOURLYPrecip.str.replace('T', '0.001')"
   ]
  },
  {
   "cell_type": "code",
   "execution_count": 11,
   "metadata": {
    "collapsed": true
   },
   "outputs": [],
   "source": [
    "weather.HOURLYPrecip = weather.HOURLYPrecip.astype('float')"
   ]
  },
  {
   "cell_type": "code",
   "execution_count": 12,
   "metadata": {
    "collapsed": true
   },
   "outputs": [],
   "source": [
    "# convert other columns to numbers"
   ]
  },
  {
   "cell_type": "code",
   "execution_count": 13,
   "metadata": {
    "collapsed": true
   },
   "outputs": [],
   "source": [
    "weather.HOURLYDRYBULBTEMPC = weather.HOURLYDRYBULBTEMPC.str.replace('s', '')"
   ]
  },
  {
   "cell_type": "code",
   "execution_count": 14,
   "metadata": {
    "collapsed": true
   },
   "outputs": [],
   "source": [
    "weather.HOURLYDRYBULBTEMPC = weather.HOURLYDRYBULBTEMPC.astype('float')"
   ]
  },
  {
   "cell_type": "code",
   "execution_count": 15,
   "metadata": {
    "collapsed": true
   },
   "outputs": [],
   "source": [
    "weather.HOURLYDewPointTempC = weather.HOURLYDewPointTempC.str.replace('s', '')"
   ]
  },
  {
   "cell_type": "code",
   "execution_count": 16,
   "metadata": {
    "collapsed": true
   },
   "outputs": [],
   "source": [
    "weather.HOURLYDewPointTempC = weather.HOURLYDewPointTempC.astype('float')"
   ]
  },
  {
   "cell_type": "code",
   "execution_count": 17,
   "metadata": {
    "collapsed": true
   },
   "outputs": [],
   "source": [
    "weather.HOURLYWindSpeed = weather.HOURLYWindSpeed.str.replace('s', '').astype('float')"
   ]
  },
  {
   "cell_type": "code",
   "execution_count": 18,
   "metadata": {
    "collapsed": true
   },
   "outputs": [],
   "source": [
    "weather.HOURLYStationPressure = weather.HOURLYStationPressure.str.replace('s', '').astype('float')"
   ]
  },
  {
   "cell_type": "code",
   "execution_count": 19,
   "metadata": {
    "collapsed": true
   },
   "outputs": [],
   "source": [
    "# add column for region name"
   ]
  },
  {
   "cell_type": "code",
   "execution_count": 20,
   "metadata": {
    "collapsed": true
   },
   "outputs": [],
   "source": [
    "def applyRegions(station):\n",
    "    stations = list(weather.STATION_NAME.unique())\n",
    "    regions = list(load.columns[1:-1])\n",
    "    regions = [regions[1], regions[2], regions[7], regions[3], regions[5], regions[6], regions[0], regions[4]]\n",
    "    stations_regions = dict(zip(stations, regions))\n",
    "    return stations_regions[station]"
   ]
  },
  {
   "cell_type": "code",
   "execution_count": 21,
   "metadata": {},
   "outputs": [],
   "source": [
    "# this line takes a while to run\n",
    "weather['REGION'] = weather.apply(lambda row: applyRegions(row['STATION_NAME']), axis=1)"
   ]
  },
  {
   "cell_type": "code",
   "execution_count": 22,
   "metadata": {
    "collapsed": true
   },
   "outputs": [],
   "source": [
    "# drop station name"
   ]
  },
  {
   "cell_type": "code",
   "execution_count": 23,
   "metadata": {
    "collapsed": true
   },
   "outputs": [],
   "source": [
    "weather = weather.drop('STATION_NAME', axis=1)"
   ]
  },
  {
   "cell_type": "code",
   "execution_count": 24,
   "metadata": {
    "collapsed": true
   },
   "outputs": [],
   "source": [
    "# convert date column to datetime format"
   ]
  },
  {
   "cell_type": "code",
   "execution_count": 25,
   "metadata": {
    "collapsed": true
   },
   "outputs": [],
   "source": [
    "weather.DATE = pd.to_datetime(weather.DATE)"
   ]
  },
  {
   "cell_type": "code",
   "execution_count": 26,
   "metadata": {
    "collapsed": true
   },
   "outputs": [],
   "source": [
    "# set multi-index"
   ]
  },
  {
   "cell_type": "code",
   "execution_count": 27,
   "metadata": {
    "collapsed": true
   },
   "outputs": [],
   "source": [
    "weather = weather.set_index(['DATE', 'REGION'])"
   ]
  },
  {
   "cell_type": "code",
   "execution_count": 28,
   "metadata": {
    "collapsed": true
   },
   "outputs": [],
   "source": [
    "# unstack regions"
   ]
  },
  {
   "cell_type": "code",
   "execution_count": 29,
   "metadata": {
    "collapsed": true
   },
   "outputs": [],
   "source": [
    "weather = weather.unstack()"
   ]
  },
  {
   "cell_type": "code",
   "execution_count": 30,
   "metadata": {
    "collapsed": true
   },
   "outputs": [],
   "source": [
    "# round to to hour"
   ]
  },
  {
   "cell_type": "code",
   "execution_count": 31,
   "metadata": {},
   "outputs": [],
   "source": [
    "weather = weather.resample('H', level=0).mean()"
   ]
  },
  {
   "cell_type": "code",
   "execution_count": 32,
   "metadata": {
    "collapsed": true
   },
   "outputs": [],
   "source": [
    "# shift forward by 1 hour"
   ]
  },
  {
   "cell_type": "code",
   "execution_count": 33,
   "metadata": {
    "collapsed": true
   },
   "outputs": [],
   "source": [
    "weather.index = weather.index.shift(1)"
   ]
  },
  {
   "cell_type": "code",
   "execution_count": 34,
   "metadata": {
    "collapsed": true
   },
   "outputs": [],
   "source": [
    "# save weather dataframe"
   ]
  },
  {
   "cell_type": "code",
   "execution_count": 35,
   "metadata": {
    "collapsed": true
   },
   "outputs": [],
   "source": [
    "weather.to_csv('../Data/Cleaned/weather.csv')"
   ]
  },
  {
   "cell_type": "code",
   "execution_count": 36,
   "metadata": {
    "collapsed": true
   },
   "outputs": [],
   "source": [
    "# LOAD DATA CLEANUP"
   ]
  },
  {
   "cell_type": "code",
   "execution_count": 37,
   "metadata": {
    "collapsed": true
   },
   "outputs": [],
   "source": [
    "# drop ERCOT total column"
   ]
  },
  {
   "cell_type": "code",
   "execution_count": 38,
   "metadata": {
    "collapsed": true
   },
   "outputs": [],
   "source": [
    "load = load.drop('ERCOT', axis=1)"
   ]
  },
  {
   "cell_type": "code",
   "execution_count": 39,
   "metadata": {
    "collapsed": true
   },
   "outputs": [],
   "source": [
    "# generate datetime column for hour"
   ]
  },
  {
   "cell_type": "code",
   "execution_count": 40,
   "metadata": {
    "collapsed": true,
    "scrolled": true
   },
   "outputs": [],
   "source": [
    "load['DATE'] = pd.date_range('2017-01-01 01:00:00', '2018-01-01 00:00:00', freq='H')"
   ]
  },
  {
   "cell_type": "code",
   "execution_count": 41,
   "metadata": {
    "collapsed": true
   },
   "outputs": [],
   "source": [
    "# drop hour ending column and set new index"
   ]
  },
  {
   "cell_type": "code",
   "execution_count": 42,
   "metadata": {
    "collapsed": true
   },
   "outputs": [],
   "source": [
    "load = load.drop(['Hour Ending'], axis=1)"
   ]
  },
  {
   "cell_type": "code",
   "execution_count": 43,
   "metadata": {
    "collapsed": true
   },
   "outputs": [],
   "source": [
    "load = load.set_index('DATE')"
   ]
  },
  {
   "cell_type": "code",
   "execution_count": 44,
   "metadata": {
    "collapsed": true
   },
   "outputs": [],
   "source": [
    "# save load dataframe"
   ]
  },
  {
   "cell_type": "code",
   "execution_count": 45,
   "metadata": {
    "collapsed": true
   },
   "outputs": [],
   "source": [
    "load.to_csv('../Data/Cleaned/load.csv')"
   ]
  },
  {
   "cell_type": "code",
   "execution_count": 46,
   "metadata": {
    "collapsed": true
   },
   "outputs": [],
   "source": [
    "# LOAD CLEANED DATAFRAMES"
   ]
  },
  {
   "cell_type": "code",
   "execution_count": 47,
   "metadata": {
    "collapsed": true
   },
   "outputs": [],
   "source": [
    "weather = pd.read_csv('../Data/Cleaned/weather.csv', header=[0,1], index_col=0)"
   ]
  },
  {
   "cell_type": "code",
   "execution_count": 48,
   "metadata": {
    "collapsed": true
   },
   "outputs": [],
   "source": [
    "load = pd.read_csv('../Data/Cleaned/load.csv', index_col=0)"
   ]
  },
  {
   "cell_type": "code",
   "execution_count": 49,
   "metadata": {
    "collapsed": true
   },
   "outputs": [],
   "source": [
    "# label column axes"
   ]
  },
  {
   "cell_type": "code",
   "execution_count": 50,
   "metadata": {
    "collapsed": true
   },
   "outputs": [],
   "source": [
    "weather = weather.rename_axis(['INDICATOR', 'REGION'], axis=1)"
   ]
  },
  {
   "cell_type": "code",
   "execution_count": 51,
   "metadata": {
    "collapsed": true
   },
   "outputs": [],
   "source": [
    "# drop unneeded indicators"
   ]
  },
  {
   "cell_type": "code",
   "execution_count": 52,
   "metadata": {
    "collapsed": true
   },
   "outputs": [],
   "source": [
    "weather = weather.drop(['HOURLYDewPointTempC', 'HOURLYStationPressure'], axis=1, level=0)"
   ]
  },
  {
   "cell_type": "code",
   "execution_count": 53,
   "metadata": {
    "collapsed": true
   },
   "outputs": [],
   "source": [
    "# join data frames"
   ]
  },
  {
   "cell_type": "code",
   "execution_count": 54,
   "metadata": {
    "collapsed": true
   },
   "outputs": [],
   "source": [
    "weather = weather.stack()"
   ]
  },
  {
   "cell_type": "code",
   "execution_count": 55,
   "metadata": {
    "collapsed": true
   },
   "outputs": [],
   "source": [
    "load = pd.DataFrame(load.stack())"
   ]
  },
  {
   "cell_type": "code",
   "execution_count": 56,
   "metadata": {
    "collapsed": true
   },
   "outputs": [],
   "source": [
    "load.columns = ['LOAD']"
   ]
  },
  {
   "cell_type": "code",
   "execution_count": 57,
   "metadata": {
    "collapsed": true
   },
   "outputs": [],
   "source": [
    "load.index.names = ['DATE', 'REGION']"
   ]
  },
  {
   "cell_type": "code",
   "execution_count": 58,
   "metadata": {
    "collapsed": true
   },
   "outputs": [],
   "source": [
    "df = weather.join(load)"
   ]
  },
  {
   "cell_type": "code",
   "execution_count": 59,
   "metadata": {
    "collapsed": true
   },
   "outputs": [],
   "source": [
    "# rename columns"
   ]
  },
  {
   "cell_type": "code",
   "execution_count": 60,
   "metadata": {},
   "outputs": [
    {
     "data": {
      "text/plain": [
       "Index(['HOURLYDRYBULBTEMPC', 'HOURLYPrecip', 'HOURLYRelativeHumidity',\n",
       "       'HOURLYWETBULBTEMPC', 'HOURLYWindSpeed', 'LOAD'],\n",
       "      dtype='object')"
      ]
     },
     "execution_count": 60,
     "metadata": {},
     "output_type": "execute_result"
    }
   ],
   "source": [
    "df.columns"
   ]
  },
  {
   "cell_type": "code",
   "execution_count": 61,
   "metadata": {
    "collapsed": true
   },
   "outputs": [],
   "source": [
    "df.columns = ['DryBulbTempC', 'Precip', 'Humidity','WetBulbTempC', 'WindSpeed', 'Load']"
   ]
  },
  {
   "cell_type": "code",
   "execution_count": 62,
   "metadata": {
    "collapsed": true
   },
   "outputs": [],
   "source": [
    "# unstack"
   ]
  },
  {
   "cell_type": "code",
   "execution_count": 63,
   "metadata": {
    "collapsed": true
   },
   "outputs": [],
   "source": [
    "df = df.unstack()"
   ]
  },
  {
   "cell_type": "code",
   "execution_count": 64,
   "metadata": {
    "collapsed": true
   },
   "outputs": [],
   "source": [
    "# reorder column index levels"
   ]
  },
  {
   "cell_type": "code",
   "execution_count": 65,
   "metadata": {
    "collapsed": true
   },
   "outputs": [],
   "source": [
    "df.columns.names = ['INDICATOR', 'REGION']"
   ]
  },
  {
   "cell_type": "code",
   "execution_count": 66,
   "metadata": {
    "collapsed": true,
    "scrolled": true
   },
   "outputs": [],
   "source": [
    "df = df.reorder_levels(['REGION','INDICATOR'], axis=1)"
   ]
  },
  {
   "cell_type": "code",
   "execution_count": 67,
   "metadata": {
    "collapsed": true
   },
   "outputs": [],
   "source": [
    "# reorder columns"
   ]
  },
  {
   "cell_type": "code",
   "execution_count": 68,
   "metadata": {
    "collapsed": true
   },
   "outputs": [],
   "source": [
    "df = df.groupby(level=[0,1], axis=1).mean()"
   ]
  },
  {
   "cell_type": "code",
   "execution_count": 69,
   "metadata": {},
   "outputs": [
    {
     "data": {
      "text/html": [
       "<div>\n",
       "<style>\n",
       "    .dataframe thead tr:only-child th {\n",
       "        text-align: right;\n",
       "    }\n",
       "\n",
       "    .dataframe thead th {\n",
       "        text-align: left;\n",
       "    }\n",
       "\n",
       "    .dataframe tbody tr th {\n",
       "        vertical-align: top;\n",
       "    }\n",
       "</style>\n",
       "<table border=\"1\" class=\"dataframe\">\n",
       "  <thead>\n",
       "    <tr>\n",
       "      <th>REGION</th>\n",
       "      <th colspan=\"6\" halign=\"left\">COAST</th>\n",
       "      <th colspan=\"6\" halign=\"left\">EAST</th>\n",
       "      <th colspan=\"6\" halign=\"left\">FWEST</th>\n",
       "      <th colspan=\"6\" halign=\"left\">NCENT</th>\n",
       "      <th colspan=\"6\" halign=\"left\">NORTH</th>\n",
       "      <th colspan=\"6\" halign=\"left\">SCENT</th>\n",
       "      <th colspan=\"6\" halign=\"left\">SOUTH</th>\n",
       "      <th colspan=\"6\" halign=\"left\">WEST</th>\n",
       "    </tr>\n",
       "    <tr>\n",
       "      <th>INDICATOR</th>\n",
       "      <th>DryBulbTempC</th>\n",
       "      <th>Precip</th>\n",
       "      <th>Humidity</th>\n",
       "      <th>WetBulbTempC</th>\n",
       "      <th>WindSpeed</th>\n",
       "      <th>Load</th>\n",
       "      <th>DryBulbTempC</th>\n",
       "      <th>Precip</th>\n",
       "      <th>Humidity</th>\n",
       "      <th>WetBulbTempC</th>\n",
       "      <th>WindSpeed</th>\n",
       "      <th>Load</th>\n",
       "      <th>DryBulbTempC</th>\n",
       "      <th>Precip</th>\n",
       "      <th>Humidity</th>\n",
       "      <th>WetBulbTempC</th>\n",
       "      <th>WindSpeed</th>\n",
       "      <th>Load</th>\n",
       "      <th>DryBulbTempC</th>\n",
       "      <th>Precip</th>\n",
       "      <th>Humidity</th>\n",
       "      <th>WetBulbTempC</th>\n",
       "      <th>WindSpeed</th>\n",
       "      <th>Load</th>\n",
       "      <th>DryBulbTempC</th>\n",
       "      <th>Precip</th>\n",
       "      <th>Humidity</th>\n",
       "      <th>WetBulbTempC</th>\n",
       "      <th>WindSpeed</th>\n",
       "      <th>Load</th>\n",
       "      <th>DryBulbTempC</th>\n",
       "      <th>Precip</th>\n",
       "      <th>Humidity</th>\n",
       "      <th>WetBulbTempC</th>\n",
       "      <th>WindSpeed</th>\n",
       "      <th>Load</th>\n",
       "      <th>DryBulbTempC</th>\n",
       "      <th>Precip</th>\n",
       "      <th>Humidity</th>\n",
       "      <th>WetBulbTempC</th>\n",
       "      <th>WindSpeed</th>\n",
       "      <th>Load</th>\n",
       "      <th>DryBulbTempC</th>\n",
       "      <th>Precip</th>\n",
       "      <th>Humidity</th>\n",
       "      <th>WetBulbTempC</th>\n",
       "      <th>WindSpeed</th>\n",
       "      <th>Load</th>\n",
       "    </tr>\n",
       "    <tr>\n",
       "      <th>DATE</th>\n",
       "      <th></th>\n",
       "      <th></th>\n",
       "      <th></th>\n",
       "      <th></th>\n",
       "      <th></th>\n",
       "      <th></th>\n",
       "      <th></th>\n",
       "      <th></th>\n",
       "      <th></th>\n",
       "      <th></th>\n",
       "      <th></th>\n",
       "      <th></th>\n",
       "      <th></th>\n",
       "      <th></th>\n",
       "      <th></th>\n",
       "      <th></th>\n",
       "      <th></th>\n",
       "      <th></th>\n",
       "      <th></th>\n",
       "      <th></th>\n",
       "      <th></th>\n",
       "      <th></th>\n",
       "      <th></th>\n",
       "      <th></th>\n",
       "      <th></th>\n",
       "      <th></th>\n",
       "      <th></th>\n",
       "      <th></th>\n",
       "      <th></th>\n",
       "      <th></th>\n",
       "      <th></th>\n",
       "      <th></th>\n",
       "      <th></th>\n",
       "      <th></th>\n",
       "      <th></th>\n",
       "      <th></th>\n",
       "      <th></th>\n",
       "      <th></th>\n",
       "      <th></th>\n",
       "      <th></th>\n",
       "      <th></th>\n",
       "      <th></th>\n",
       "      <th></th>\n",
       "      <th></th>\n",
       "      <th></th>\n",
       "      <th></th>\n",
       "      <th></th>\n",
       "      <th></th>\n",
       "    </tr>\n",
       "  </thead>\n",
       "  <tbody>\n",
       "    <tr>\n",
       "      <th>2017-01-01 01:00:00</th>\n",
       "      <td>18.9</td>\n",
       "      <td>0.0</td>\n",
       "      <td>90.0</td>\n",
       "      <td>17.900000</td>\n",
       "      <td>0.0</td>\n",
       "      <td>8791.789509</td>\n",
       "      <td>15.0</td>\n",
       "      <td>0.0</td>\n",
       "      <td>100.0</td>\n",
       "      <td>15.0</td>\n",
       "      <td>5.0</td>\n",
       "      <td>896.746302</td>\n",
       "      <td>9.4</td>\n",
       "      <td>0.001</td>\n",
       "      <td>69.0</td>\n",
       "      <td>6.8</td>\n",
       "      <td>6.0</td>\n",
       "      <td>1997.717635</td>\n",
       "      <td>8.9</td>\n",
       "      <td>0.0</td>\n",
       "      <td>63.0</td>\n",
       "      <td>5.9</td>\n",
       "      <td>6.0</td>\n",
       "      <td>9239.153285</td>\n",
       "      <td>4.4</td>\n",
       "      <td>0.0</td>\n",
       "      <td>65.0</td>\n",
       "      <td>2.0</td>\n",
       "      <td>9.0</td>\n",
       "      <td>683.621986</td>\n",
       "      <td>11.850000</td>\n",
       "      <td>0.0</td>\n",
       "      <td>98.000000</td>\n",
       "      <td>11.800</td>\n",
       "      <td>0.00</td>\n",
       "      <td>4490.781365</td>\n",
       "      <td>16.1</td>\n",
       "      <td>0.000</td>\n",
       "      <td>93.0</td>\n",
       "      <td>15.5</td>\n",
       "      <td>6.0</td>\n",
       "      <td>2366.632745</td>\n",
       "      <td>5.900000</td>\n",
       "      <td>NaN</td>\n",
       "      <td>67.000000</td>\n",
       "      <td>3.500000</td>\n",
       "      <td>3.000000</td>\n",
       "      <td>954.192864</td>\n",
       "    </tr>\n",
       "    <tr>\n",
       "      <th>2017-01-01 02:00:00</th>\n",
       "      <td>18.9</td>\n",
       "      <td>0.0</td>\n",
       "      <td>93.0</td>\n",
       "      <td>18.200000</td>\n",
       "      <td>0.0</td>\n",
       "      <td>8569.708419</td>\n",
       "      <td>15.0</td>\n",
       "      <td>0.0</td>\n",
       "      <td>100.0</td>\n",
       "      <td>15.0</td>\n",
       "      <td>5.0</td>\n",
       "      <td>865.930568</td>\n",
       "      <td>9.4</td>\n",
       "      <td>0.000</td>\n",
       "      <td>69.0</td>\n",
       "      <td>6.8</td>\n",
       "      <td>6.0</td>\n",
       "      <td>1997.781319</td>\n",
       "      <td>8.3</td>\n",
       "      <td>0.0</td>\n",
       "      <td>71.0</td>\n",
       "      <td>6.0</td>\n",
       "      <td>8.0</td>\n",
       "      <td>9104.997245</td>\n",
       "      <td>2.8</td>\n",
       "      <td>0.0</td>\n",
       "      <td>73.0</td>\n",
       "      <td>1.0</td>\n",
       "      <td>9.0</td>\n",
       "      <td>677.969375</td>\n",
       "      <td>10.975000</td>\n",
       "      <td>0.0</td>\n",
       "      <td>96.500000</td>\n",
       "      <td>10.675</td>\n",
       "      <td>2.75</td>\n",
       "      <td>4370.656830</td>\n",
       "      <td>15.6</td>\n",
       "      <td>0.000</td>\n",
       "      <td>100.0</td>\n",
       "      <td>15.6</td>\n",
       "      <td>6.0</td>\n",
       "      <td>2332.744630</td>\n",
       "      <td>6.033333</td>\n",
       "      <td>NaN</td>\n",
       "      <td>66.333333</td>\n",
       "      <td>3.500000</td>\n",
       "      <td>2.666667</td>\n",
       "      <td>951.025166</td>\n",
       "    </tr>\n",
       "    <tr>\n",
       "      <th>2017-01-01 03:00:00</th>\n",
       "      <td>18.3</td>\n",
       "      <td>0.0</td>\n",
       "      <td>97.0</td>\n",
       "      <td>18.000000</td>\n",
       "      <td>3.0</td>\n",
       "      <td>8326.425638</td>\n",
       "      <td>15.0</td>\n",
       "      <td>0.0</td>\n",
       "      <td>100.0</td>\n",
       "      <td>15.0</td>\n",
       "      <td>6.5</td>\n",
       "      <td>839.051175</td>\n",
       "      <td>8.9</td>\n",
       "      <td>0.000</td>\n",
       "      <td>74.0</td>\n",
       "      <td>6.7</td>\n",
       "      <td>8.0</td>\n",
       "      <td>1993.699160</td>\n",
       "      <td>7.8</td>\n",
       "      <td>0.0</td>\n",
       "      <td>71.0</td>\n",
       "      <td>5.5</td>\n",
       "      <td>6.0</td>\n",
       "      <td>8988.035201</td>\n",
       "      <td>1.7</td>\n",
       "      <td>0.0</td>\n",
       "      <td>78.0</td>\n",
       "      <td>0.4</td>\n",
       "      <td>8.0</td>\n",
       "      <td>671.998949</td>\n",
       "      <td>13.300000</td>\n",
       "      <td>0.0</td>\n",
       "      <td>97.000000</td>\n",
       "      <td>13.000</td>\n",
       "      <td>0.00</td>\n",
       "      <td>4210.650003</td>\n",
       "      <td>15.6</td>\n",
       "      <td>0.000</td>\n",
       "      <td>96.0</td>\n",
       "      <td>15.2</td>\n",
       "      <td>6.0</td>\n",
       "      <td>2237.506202</td>\n",
       "      <td>7.000000</td>\n",
       "      <td>0.001</td>\n",
       "      <td>64.333333</td>\n",
       "      <td>4.500000</td>\n",
       "      <td>0.500000</td>\n",
       "      <td>944.357749</td>\n",
       "    </tr>\n",
       "    <tr>\n",
       "      <th>2017-01-01 04:00:00</th>\n",
       "      <td>18.5</td>\n",
       "      <td>0.0</td>\n",
       "      <td>92.0</td>\n",
       "      <td>17.766667</td>\n",
       "      <td>2.0</td>\n",
       "      <td>8137.497400</td>\n",
       "      <td>15.0</td>\n",
       "      <td>0.0</td>\n",
       "      <td>100.0</td>\n",
       "      <td>15.0</td>\n",
       "      <td>7.0</td>\n",
       "      <td>822.829332</td>\n",
       "      <td>7.2</td>\n",
       "      <td>0.000</td>\n",
       "      <td>80.0</td>\n",
       "      <td>5.6</td>\n",
       "      <td>3.0</td>\n",
       "      <td>1995.540876</td>\n",
       "      <td>7.2</td>\n",
       "      <td>0.0</td>\n",
       "      <td>74.0</td>\n",
       "      <td>5.2</td>\n",
       "      <td>6.0</td>\n",
       "      <td>8979.148462</td>\n",
       "      <td>3.3</td>\n",
       "      <td>0.0</td>\n",
       "      <td>73.0</td>\n",
       "      <td>1.5</td>\n",
       "      <td>7.0</td>\n",
       "      <td>675.267971</td>\n",
       "      <td>13.925000</td>\n",
       "      <td>0.0</td>\n",
       "      <td>95.500000</td>\n",
       "      <td>13.525</td>\n",
       "      <td>2.00</td>\n",
       "      <td>4088.713039</td>\n",
       "      <td>16.1</td>\n",
       "      <td>0.001</td>\n",
       "      <td>97.0</td>\n",
       "      <td>15.8</td>\n",
       "      <td>0.0</td>\n",
       "      <td>2178.102265</td>\n",
       "      <td>6.583333</td>\n",
       "      <td>0.010</td>\n",
       "      <td>77.000000</td>\n",
       "      <td>4.990909</td>\n",
       "      <td>3.916667</td>\n",
       "      <td>943.188703</td>\n",
       "    </tr>\n",
       "    <tr>\n",
       "      <th>2017-01-01 05:00:00</th>\n",
       "      <td>18.3</td>\n",
       "      <td>0.0</td>\n",
       "      <td>93.0</td>\n",
       "      <td>17.700000</td>\n",
       "      <td>0.0</td>\n",
       "      <td>8011.869581</td>\n",
       "      <td>15.0</td>\n",
       "      <td>0.0</td>\n",
       "      <td>100.0</td>\n",
       "      <td>15.0</td>\n",
       "      <td>4.5</td>\n",
       "      <td>814.016188</td>\n",
       "      <td>8.3</td>\n",
       "      <td>0.000</td>\n",
       "      <td>77.0</td>\n",
       "      <td>6.5</td>\n",
       "      <td>7.0</td>\n",
       "      <td>1995.253501</td>\n",
       "      <td>6.1</td>\n",
       "      <td>0.0</td>\n",
       "      <td>80.0</td>\n",
       "      <td>4.6</td>\n",
       "      <td>8.0</td>\n",
       "      <td>9033.547636</td>\n",
       "      <td>3.9</td>\n",
       "      <td>0.0</td>\n",
       "      <td>70.0</td>\n",
       "      <td>1.9</td>\n",
       "      <td>8.0</td>\n",
       "      <td>663.619875</td>\n",
       "      <td>13.933333</td>\n",
       "      <td>0.0</td>\n",
       "      <td>95.333333</td>\n",
       "      <td>13.500</td>\n",
       "      <td>1.00</td>\n",
       "      <td>4021.757095</td>\n",
       "      <td>16.7</td>\n",
       "      <td>0.010</td>\n",
       "      <td>96.0</td>\n",
       "      <td>16.3</td>\n",
       "      <td>11.0</td>\n",
       "      <td>2133.953870</td>\n",
       "      <td>5.733333</td>\n",
       "      <td>NaN</td>\n",
       "      <td>87.000000</td>\n",
       "      <td>4.816667</td>\n",
       "      <td>2.833333</td>\n",
       "      <td>954.937932</td>\n",
       "    </tr>\n",
       "  </tbody>\n",
       "</table>\n",
       "</div>"
      ],
      "text/plain": [
       "REGION                     COAST                                         \\\n",
       "INDICATOR           DryBulbTempC Precip Humidity WetBulbTempC WindSpeed   \n",
       "DATE                                                                      \n",
       "2017-01-01 01:00:00         18.9    0.0     90.0    17.900000       0.0   \n",
       "2017-01-01 02:00:00         18.9    0.0     93.0    18.200000       0.0   \n",
       "2017-01-01 03:00:00         18.3    0.0     97.0    18.000000       3.0   \n",
       "2017-01-01 04:00:00         18.5    0.0     92.0    17.766667       2.0   \n",
       "2017-01-01 05:00:00         18.3    0.0     93.0    17.700000       0.0   \n",
       "\n",
       "REGION                                   EAST                               \\\n",
       "INDICATOR                   Load DryBulbTempC Precip Humidity WetBulbTempC   \n",
       "DATE                                                                         \n",
       "2017-01-01 01:00:00  8791.789509         15.0    0.0    100.0         15.0   \n",
       "2017-01-01 02:00:00  8569.708419         15.0    0.0    100.0         15.0   \n",
       "2017-01-01 03:00:00  8326.425638         15.0    0.0    100.0         15.0   \n",
       "2017-01-01 04:00:00  8137.497400         15.0    0.0    100.0         15.0   \n",
       "2017-01-01 05:00:00  8011.869581         15.0    0.0    100.0         15.0   \n",
       "\n",
       "REGION                                           FWEST                  \\\n",
       "INDICATOR           WindSpeed        Load DryBulbTempC Precip Humidity   \n",
       "DATE                                                                     \n",
       "2017-01-01 01:00:00       5.0  896.746302          9.4  0.001     69.0   \n",
       "2017-01-01 02:00:00       5.0  865.930568          9.4  0.000     69.0   \n",
       "2017-01-01 03:00:00       6.5  839.051175          8.9  0.000     74.0   \n",
       "2017-01-01 04:00:00       7.0  822.829332          7.2  0.000     80.0   \n",
       "2017-01-01 05:00:00       4.5  814.016188          8.3  0.000     77.0   \n",
       "\n",
       "REGION                                                         NCENT         \\\n",
       "INDICATOR           WetBulbTempC WindSpeed         Load DryBulbTempC Precip   \n",
       "DATE                                                                          \n",
       "2017-01-01 01:00:00          6.8       6.0  1997.717635          8.9    0.0   \n",
       "2017-01-01 02:00:00          6.8       6.0  1997.781319          8.3    0.0   \n",
       "2017-01-01 03:00:00          6.7       8.0  1993.699160          7.8    0.0   \n",
       "2017-01-01 04:00:00          5.6       3.0  1995.540876          7.2    0.0   \n",
       "2017-01-01 05:00:00          6.5       7.0  1995.253501          6.1    0.0   \n",
       "\n",
       "REGION                                                                  NORTH  \\\n",
       "INDICATOR           Humidity WetBulbTempC WindSpeed         Load DryBulbTempC   \n",
       "DATE                                                                            \n",
       "2017-01-01 01:00:00     63.0          5.9       6.0  9239.153285          4.4   \n",
       "2017-01-01 02:00:00     71.0          6.0       8.0  9104.997245          2.8   \n",
       "2017-01-01 03:00:00     71.0          5.5       6.0  8988.035201          1.7   \n",
       "2017-01-01 04:00:00     74.0          5.2       6.0  8979.148462          3.3   \n",
       "2017-01-01 05:00:00     80.0          4.6       8.0  9033.547636          3.9   \n",
       "\n",
       "REGION                                                                  \\\n",
       "INDICATOR           Precip Humidity WetBulbTempC WindSpeed        Load   \n",
       "DATE                                                                     \n",
       "2017-01-01 01:00:00    0.0     65.0          2.0       9.0  683.621986   \n",
       "2017-01-01 02:00:00    0.0     73.0          1.0       9.0  677.969375   \n",
       "2017-01-01 03:00:00    0.0     78.0          0.4       8.0  671.998949   \n",
       "2017-01-01 04:00:00    0.0     73.0          1.5       7.0  675.267971   \n",
       "2017-01-01 05:00:00    0.0     70.0          1.9       8.0  663.619875   \n",
       "\n",
       "REGION                     SCENT                                           \\\n",
       "INDICATOR           DryBulbTempC Precip   Humidity WetBulbTempC WindSpeed   \n",
       "DATE                                                                        \n",
       "2017-01-01 01:00:00    11.850000    0.0  98.000000       11.800      0.00   \n",
       "2017-01-01 02:00:00    10.975000    0.0  96.500000       10.675      2.75   \n",
       "2017-01-01 03:00:00    13.300000    0.0  97.000000       13.000      0.00   \n",
       "2017-01-01 04:00:00    13.925000    0.0  95.500000       13.525      2.00   \n",
       "2017-01-01 05:00:00    13.933333    0.0  95.333333       13.500      1.00   \n",
       "\n",
       "REGION                                  SOUTH                               \\\n",
       "INDICATOR                   Load DryBulbTempC Precip Humidity WetBulbTempC   \n",
       "DATE                                                                         \n",
       "2017-01-01 01:00:00  4490.781365         16.1  0.000     93.0         15.5   \n",
       "2017-01-01 02:00:00  4370.656830         15.6  0.000    100.0         15.6   \n",
       "2017-01-01 03:00:00  4210.650003         15.6  0.000     96.0         15.2   \n",
       "2017-01-01 04:00:00  4088.713039         16.1  0.001     97.0         15.8   \n",
       "2017-01-01 05:00:00  4021.757095         16.7  0.010     96.0         16.3   \n",
       "\n",
       "REGION                                             WEST                    \\\n",
       "INDICATOR           WindSpeed         Load DryBulbTempC Precip   Humidity   \n",
       "DATE                                                                        \n",
       "2017-01-01 01:00:00       6.0  2366.632745     5.900000    NaN  67.000000   \n",
       "2017-01-01 02:00:00       6.0  2332.744630     6.033333    NaN  66.333333   \n",
       "2017-01-01 03:00:00       6.0  2237.506202     7.000000  0.001  64.333333   \n",
       "2017-01-01 04:00:00       0.0  2178.102265     6.583333  0.010  77.000000   \n",
       "2017-01-01 05:00:00      11.0  2133.953870     5.733333    NaN  87.000000   \n",
       "\n",
       "REGION                                                  \n",
       "INDICATOR           WetBulbTempC WindSpeed        Load  \n",
       "DATE                                                    \n",
       "2017-01-01 01:00:00     3.500000  3.000000  954.192864  \n",
       "2017-01-01 02:00:00     3.500000  2.666667  951.025166  \n",
       "2017-01-01 03:00:00     4.500000  0.500000  944.357749  \n",
       "2017-01-01 04:00:00     4.990909  3.916667  943.188703  \n",
       "2017-01-01 05:00:00     4.816667  2.833333  954.937932  "
      ]
     },
     "execution_count": 69,
     "metadata": {},
     "output_type": "execute_result"
    }
   ],
   "source": [
    "df.head()"
   ]
  },
  {
   "cell_type": "code",
   "execution_count": 70,
   "metadata": {
    "collapsed": true
   },
   "outputs": [],
   "source": [
    "# save combined df"
   ]
  },
  {
   "cell_type": "code",
   "execution_count": 71,
   "metadata": {
    "collapsed": true
   },
   "outputs": [],
   "source": [
    "df.to_csv('../Data/Cleaned/combined.csv')"
   ]
  },
  {
   "cell_type": "code",
   "execution_count": 3,
   "metadata": {},
   "outputs": [],
   "source": [
    "# further preprocessing"
   ]
  },
  {
   "cell_type": "code",
   "execution_count": 4,
   "metadata": {},
   "outputs": [],
   "source": [
    "df = pd.read_csv('../Data/Cleaned/combined.csv', header=[0,1], index_col=0)"
   ]
  },
  {
   "cell_type": "code",
   "execution_count": null,
   "metadata": {},
   "outputs": [],
   "source": [
    "# keep only temperature and load"
   ]
  },
  {
   "cell_type": "code",
   "execution_count": 5,
   "metadata": {},
   "outputs": [],
   "source": [
    "df = df.loc[:, (slice(None), ['DryBulbTempC', 'Load'])]"
   ]
  },
  {
   "cell_type": "code",
   "execution_count": 40,
   "metadata": {},
   "outputs": [],
   "source": [
    "# calculate square of temperature"
   ]
  },
  {
   "cell_type": "code",
   "execution_count": 14,
   "metadata": {},
   "outputs": [],
   "source": [
    "tempSq = df.loc[:, (slice(None), 'DryBulbTempC')]**2"
   ]
  },
  {
   "cell_type": "code",
   "execution_count": null,
   "metadata": {},
   "outputs": [],
   "source": [
    "# swap levels to prepare for join"
   ]
  },
  {
   "cell_type": "code",
   "execution_count": 22,
   "metadata": {},
   "outputs": [],
   "source": [
    "tempSq = tempSq.swaplevel(axis=1)"
   ]
  },
  {
   "cell_type": "code",
   "execution_count": 24,
   "metadata": {},
   "outputs": [],
   "source": [
    "df = df.swaplevel(axis=1)"
   ]
  },
  {
   "cell_type": "code",
   "execution_count": null,
   "metadata": {},
   "outputs": [],
   "source": [
    "# join square of temperature"
   ]
  },
  {
   "cell_type": "code",
   "execution_count": 28,
   "metadata": {},
   "outputs": [],
   "source": [
    "df = df.join(tempSq, rsuffix='Sq')"
   ]
  },
  {
   "cell_type": "code",
   "execution_count": null,
   "metadata": {},
   "outputs": [],
   "source": [
    "# swap levels back and sort"
   ]
  },
  {
   "cell_type": "code",
   "execution_count": 30,
   "metadata": {},
   "outputs": [],
   "source": [
    "df = df.swaplevel(axis=1)"
   ]
  },
  {
   "cell_type": "code",
   "execution_count": 33,
   "metadata": {},
   "outputs": [],
   "source": [
    "df = df.sort_index(axis=1)"
   ]
  },
  {
   "cell_type": "code",
   "execution_count": 34,
   "metadata": {},
   "outputs": [
    {
     "data": {
      "text/html": [
       "<div>\n",
       "<style scoped>\n",
       "    .dataframe tbody tr th:only-of-type {\n",
       "        vertical-align: middle;\n",
       "    }\n",
       "\n",
       "    .dataframe tbody tr th {\n",
       "        vertical-align: top;\n",
       "    }\n",
       "\n",
       "    .dataframe thead tr th {\n",
       "        text-align: left;\n",
       "    }\n",
       "\n",
       "    .dataframe thead tr:last-of-type th {\n",
       "        text-align: right;\n",
       "    }\n",
       "</style>\n",
       "<table border=\"1\" class=\"dataframe\">\n",
       "  <thead>\n",
       "    <tr>\n",
       "      <th>REGION</th>\n",
       "      <th colspan=\"3\" halign=\"left\">COAST</th>\n",
       "      <th colspan=\"3\" halign=\"left\">EAST</th>\n",
       "      <th colspan=\"3\" halign=\"left\">FWEST</th>\n",
       "      <th colspan=\"3\" halign=\"left\">NCENT</th>\n",
       "      <th colspan=\"3\" halign=\"left\">NORTH</th>\n",
       "      <th colspan=\"3\" halign=\"left\">SCENT</th>\n",
       "      <th colspan=\"3\" halign=\"left\">SOUTH</th>\n",
       "      <th colspan=\"3\" halign=\"left\">WEST</th>\n",
       "    </tr>\n",
       "    <tr>\n",
       "      <th>INDICATOR</th>\n",
       "      <th>DryBulbTempC</th>\n",
       "      <th>DryBulbTempCSq</th>\n",
       "      <th>Load</th>\n",
       "      <th>DryBulbTempC</th>\n",
       "      <th>DryBulbTempCSq</th>\n",
       "      <th>Load</th>\n",
       "      <th>DryBulbTempC</th>\n",
       "      <th>DryBulbTempCSq</th>\n",
       "      <th>Load</th>\n",
       "      <th>DryBulbTempC</th>\n",
       "      <th>DryBulbTempCSq</th>\n",
       "      <th>Load</th>\n",
       "      <th>DryBulbTempC</th>\n",
       "      <th>DryBulbTempCSq</th>\n",
       "      <th>Load</th>\n",
       "      <th>DryBulbTempC</th>\n",
       "      <th>DryBulbTempCSq</th>\n",
       "      <th>Load</th>\n",
       "      <th>DryBulbTempC</th>\n",
       "      <th>DryBulbTempCSq</th>\n",
       "      <th>Load</th>\n",
       "      <th>DryBulbTempC</th>\n",
       "      <th>DryBulbTempCSq</th>\n",
       "      <th>Load</th>\n",
       "    </tr>\n",
       "    <tr>\n",
       "      <th>DATE</th>\n",
       "      <th></th>\n",
       "      <th></th>\n",
       "      <th></th>\n",
       "      <th></th>\n",
       "      <th></th>\n",
       "      <th></th>\n",
       "      <th></th>\n",
       "      <th></th>\n",
       "      <th></th>\n",
       "      <th></th>\n",
       "      <th></th>\n",
       "      <th></th>\n",
       "      <th></th>\n",
       "      <th></th>\n",
       "      <th></th>\n",
       "      <th></th>\n",
       "      <th></th>\n",
       "      <th></th>\n",
       "      <th></th>\n",
       "      <th></th>\n",
       "      <th></th>\n",
       "      <th></th>\n",
       "      <th></th>\n",
       "      <th></th>\n",
       "    </tr>\n",
       "  </thead>\n",
       "  <tbody>\n",
       "    <tr>\n",
       "      <th>2017-01-01 01:00:00</th>\n",
       "      <td>18.9</td>\n",
       "      <td>357.21</td>\n",
       "      <td>8791.789509</td>\n",
       "      <td>15.0</td>\n",
       "      <td>225.0</td>\n",
       "      <td>896.746302</td>\n",
       "      <td>9.4</td>\n",
       "      <td>88.36</td>\n",
       "      <td>1997.717635</td>\n",
       "      <td>8.9</td>\n",
       "      <td>79.21</td>\n",
       "      <td>9239.153285</td>\n",
       "      <td>4.4</td>\n",
       "      <td>19.36</td>\n",
       "      <td>683.621986</td>\n",
       "      <td>11.850000</td>\n",
       "      <td>140.422500</td>\n",
       "      <td>4490.781365</td>\n",
       "      <td>16.1</td>\n",
       "      <td>259.21</td>\n",
       "      <td>2366.632745</td>\n",
       "      <td>5.900000</td>\n",
       "      <td>34.810000</td>\n",
       "      <td>954.192864</td>\n",
       "    </tr>\n",
       "    <tr>\n",
       "      <th>2017-01-01 02:00:00</th>\n",
       "      <td>18.9</td>\n",
       "      <td>357.21</td>\n",
       "      <td>8569.708419</td>\n",
       "      <td>15.0</td>\n",
       "      <td>225.0</td>\n",
       "      <td>865.930568</td>\n",
       "      <td>9.4</td>\n",
       "      <td>88.36</td>\n",
       "      <td>1997.781319</td>\n",
       "      <td>8.3</td>\n",
       "      <td>68.89</td>\n",
       "      <td>9104.997245</td>\n",
       "      <td>2.8</td>\n",
       "      <td>7.84</td>\n",
       "      <td>677.969375</td>\n",
       "      <td>10.975000</td>\n",
       "      <td>120.450625</td>\n",
       "      <td>4370.656830</td>\n",
       "      <td>15.6</td>\n",
       "      <td>243.36</td>\n",
       "      <td>2332.744630</td>\n",
       "      <td>6.033333</td>\n",
       "      <td>36.401111</td>\n",
       "      <td>951.025166</td>\n",
       "    </tr>\n",
       "    <tr>\n",
       "      <th>2017-01-01 03:00:00</th>\n",
       "      <td>18.3</td>\n",
       "      <td>334.89</td>\n",
       "      <td>8326.425638</td>\n",
       "      <td>15.0</td>\n",
       "      <td>225.0</td>\n",
       "      <td>839.051175</td>\n",
       "      <td>8.9</td>\n",
       "      <td>79.21</td>\n",
       "      <td>1993.699160</td>\n",
       "      <td>7.8</td>\n",
       "      <td>60.84</td>\n",
       "      <td>8988.035201</td>\n",
       "      <td>1.7</td>\n",
       "      <td>2.89</td>\n",
       "      <td>671.998949</td>\n",
       "      <td>13.300000</td>\n",
       "      <td>176.890000</td>\n",
       "      <td>4210.650003</td>\n",
       "      <td>15.6</td>\n",
       "      <td>243.36</td>\n",
       "      <td>2237.506202</td>\n",
       "      <td>7.000000</td>\n",
       "      <td>49.000000</td>\n",
       "      <td>944.357749</td>\n",
       "    </tr>\n",
       "    <tr>\n",
       "      <th>2017-01-01 04:00:00</th>\n",
       "      <td>18.5</td>\n",
       "      <td>342.25</td>\n",
       "      <td>8137.497400</td>\n",
       "      <td>15.0</td>\n",
       "      <td>225.0</td>\n",
       "      <td>822.829332</td>\n",
       "      <td>7.2</td>\n",
       "      <td>51.84</td>\n",
       "      <td>1995.540876</td>\n",
       "      <td>7.2</td>\n",
       "      <td>51.84</td>\n",
       "      <td>8979.148462</td>\n",
       "      <td>3.3</td>\n",
       "      <td>10.89</td>\n",
       "      <td>675.267971</td>\n",
       "      <td>13.925000</td>\n",
       "      <td>193.905625</td>\n",
       "      <td>4088.713039</td>\n",
       "      <td>16.1</td>\n",
       "      <td>259.21</td>\n",
       "      <td>2178.102265</td>\n",
       "      <td>6.583333</td>\n",
       "      <td>43.340278</td>\n",
       "      <td>943.188703</td>\n",
       "    </tr>\n",
       "    <tr>\n",
       "      <th>2017-01-01 05:00:00</th>\n",
       "      <td>18.3</td>\n",
       "      <td>334.89</td>\n",
       "      <td>8011.869581</td>\n",
       "      <td>15.0</td>\n",
       "      <td>225.0</td>\n",
       "      <td>814.016188</td>\n",
       "      <td>8.3</td>\n",
       "      <td>68.89</td>\n",
       "      <td>1995.253501</td>\n",
       "      <td>6.1</td>\n",
       "      <td>37.21</td>\n",
       "      <td>9033.547636</td>\n",
       "      <td>3.9</td>\n",
       "      <td>15.21</td>\n",
       "      <td>663.619875</td>\n",
       "      <td>13.933333</td>\n",
       "      <td>194.137778</td>\n",
       "      <td>4021.757095</td>\n",
       "      <td>16.7</td>\n",
       "      <td>278.89</td>\n",
       "      <td>2133.953870</td>\n",
       "      <td>5.733333</td>\n",
       "      <td>32.871111</td>\n",
       "      <td>954.937932</td>\n",
       "    </tr>\n",
       "  </tbody>\n",
       "</table>\n",
       "</div>"
      ],
      "text/plain": [
       "REGION                     COAST                                     EAST  \\\n",
       "INDICATOR           DryBulbTempC DryBulbTempCSq         Load DryBulbTempC   \n",
       "DATE                                                                        \n",
       "2017-01-01 01:00:00         18.9         357.21  8791.789509         15.0   \n",
       "2017-01-01 02:00:00         18.9         357.21  8569.708419         15.0   \n",
       "2017-01-01 03:00:00         18.3         334.89  8326.425638         15.0   \n",
       "2017-01-01 04:00:00         18.5         342.25  8137.497400         15.0   \n",
       "2017-01-01 05:00:00         18.3         334.89  8011.869581         15.0   \n",
       "\n",
       "REGION                                                FWEST                 \\\n",
       "INDICATOR           DryBulbTempCSq        Load DryBulbTempC DryBulbTempCSq   \n",
       "DATE                                                                         \n",
       "2017-01-01 01:00:00          225.0  896.746302          9.4          88.36   \n",
       "2017-01-01 02:00:00          225.0  865.930568          9.4          88.36   \n",
       "2017-01-01 03:00:00          225.0  839.051175          8.9          79.21   \n",
       "2017-01-01 04:00:00          225.0  822.829332          7.2          51.84   \n",
       "2017-01-01 05:00:00          225.0  814.016188          8.3          68.89   \n",
       "\n",
       "REGION                                  NCENT                              \\\n",
       "INDICATOR                   Load DryBulbTempC DryBulbTempCSq         Load   \n",
       "DATE                                                                        \n",
       "2017-01-01 01:00:00  1997.717635          8.9          79.21  9239.153285   \n",
       "2017-01-01 02:00:00  1997.781319          8.3          68.89  9104.997245   \n",
       "2017-01-01 03:00:00  1993.699160          7.8          60.84  8988.035201   \n",
       "2017-01-01 04:00:00  1995.540876          7.2          51.84  8979.148462   \n",
       "2017-01-01 05:00:00  1995.253501          6.1          37.21  9033.547636   \n",
       "\n",
       "REGION                     NORTH                                   SCENT  \\\n",
       "INDICATOR           DryBulbTempC DryBulbTempCSq        Load DryBulbTempC   \n",
       "DATE                                                                       \n",
       "2017-01-01 01:00:00          4.4          19.36  683.621986    11.850000   \n",
       "2017-01-01 02:00:00          2.8           7.84  677.969375    10.975000   \n",
       "2017-01-01 03:00:00          1.7           2.89  671.998949    13.300000   \n",
       "2017-01-01 04:00:00          3.3          10.89  675.267971    13.925000   \n",
       "2017-01-01 05:00:00          3.9          15.21  663.619875    13.933333   \n",
       "\n",
       "REGION                                                 SOUTH                 \\\n",
       "INDICATOR           DryBulbTempCSq         Load DryBulbTempC DryBulbTempCSq   \n",
       "DATE                                                                          \n",
       "2017-01-01 01:00:00     140.422500  4490.781365         16.1         259.21   \n",
       "2017-01-01 02:00:00     120.450625  4370.656830         15.6         243.36   \n",
       "2017-01-01 03:00:00     176.890000  4210.650003         15.6         243.36   \n",
       "2017-01-01 04:00:00     193.905625  4088.713039         16.1         259.21   \n",
       "2017-01-01 05:00:00     194.137778  4021.757095         16.7         278.89   \n",
       "\n",
       "REGION                                   WEST                             \n",
       "INDICATOR                   Load DryBulbTempC DryBulbTempCSq        Load  \n",
       "DATE                                                                      \n",
       "2017-01-01 01:00:00  2366.632745     5.900000      34.810000  954.192864  \n",
       "2017-01-01 02:00:00  2332.744630     6.033333      36.401111  951.025166  \n",
       "2017-01-01 03:00:00  2237.506202     7.000000      49.000000  944.357749  \n",
       "2017-01-01 04:00:00  2178.102265     6.583333      43.340278  943.188703  \n",
       "2017-01-01 05:00:00  2133.953870     5.733333      32.871111  954.937932  "
      ]
     },
     "execution_count": 34,
     "metadata": {},
     "output_type": "execute_result"
    }
   ],
   "source": [
    "df.head()"
   ]
  },
  {
   "cell_type": "code",
   "execution_count": 35,
   "metadata": {},
   "outputs": [],
   "source": [
    "# save pre-processed dataframe"
   ]
  },
  {
   "cell_type": "code",
   "execution_count": 36,
   "metadata": {},
   "outputs": [],
   "source": [
    "df.to_csv('../Data/Cleaned/preprocessed.csv')"
   ]
  },
  {
   "cell_type": "code",
   "execution_count": null,
   "metadata": {},
   "outputs": [],
   "source": []
  }
 ],
 "metadata": {
  "kernelspec": {
   "display_name": "Python 3",
   "language": "python",
   "name": "python3"
  },
  "language_info": {
   "codemirror_mode": {
    "name": "ipython",
    "version": 3
   },
   "file_extension": ".py",
   "mimetype": "text/x-python",
   "name": "python",
   "nbconvert_exporter": "python",
   "pygments_lexer": "ipython3",
   "version": "3.6.3"
  }
 },
 "nbformat": 4,
 "nbformat_minor": 2
}
